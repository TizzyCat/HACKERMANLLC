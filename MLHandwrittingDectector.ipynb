{
  "nbformat": 4,
  "nbformat_minor": 0,
  "metadata": {
    "colab": {
      "name": "MLHandwrittingDectector.ipynb",
      "provenance": [],
      "collapsed_sections": [],
      "include_colab_link": true
    },
    "kernelspec": {
      "name": "python3",
      "display_name": "Python 3"
    },
    "accelerator": "GPU"
  },
  "cells": [
    {
      "cell_type": "markdown",
      "metadata": {
        "id": "view-in-github",
        "colab_type": "text"
      },
      "source": [
        "<a href=\"https://colab.research.google.com/github/blake-tisbury/HACKERMANLLC/blob/master/MLHandwrittingDectector.ipynb\" target=\"_parent\"><img src=\"https://colab.research.google.com/assets/colab-badge.svg\" alt=\"Open In Colab\"/></a>"
      ]
    },
    {
      "cell_type": "code",
      "metadata": {
        "id": "y8t_EdO8jEHz",
        "outputId": "6b98e111-eed4-478a-f0a5-e6156bbc72b6",
        "colab": {
          "base_uri": "https://localhost:8080/",
          "height": 101
        }
      },
      "source": [
        "%tensorflow_version 2.x  # this line is not required unless you are in a notebook\n",
        "# TensorFlow and tf.keras\n",
        "import tensorflow as tf\n",
        "from tensorflow import keras\n",
        "\n",
        "# Helper libraries\n",
        "import numpy as np\n",
        "import matplotlib.pyplot as plt"
      ],
      "execution_count": null,
      "outputs": [
        {
          "output_type": "stream",
          "text": [
            "`%tensorflow_version` only switches the major version: 1.x or 2.x.\n",
            "You set: `2.x  # this line is not required unless you are in a notebook`. This will be interpreted as: `2.x`.\n",
            "\n",
            "\n",
            "TensorFlow is already loaded. Please restart the runtime to change versions.\n"
          ],
          "name": "stdout"
        }
      ]
    },
    {
      "cell_type": "code",
      "metadata": {
        "id": "Et0Rc2VgZ018"
      },
      "source": [
        "mnist = keras.datasets.mnist  # load dataset\n",
        "\n",
        "(train_images, train_labels), (test_images, test_labels) = mnist.load_data()  # split into tetsing and training\n",
        "\n",
        "train_images = train_images / 255.0\n",
        "\n",
        "test_images = test_images / 255.0"
      ],
      "execution_count": null,
      "outputs": []
    },
    {
      "cell_type": "code",
      "metadata": {
        "id": "Nfc8LV4Pkq0X",
        "outputId": "0a981bb4-d21a-4b3e-b25a-6527ae29d76b",
        "colab": {
          "base_uri": "https://localhost:8080/",
          "height": 269
        }
      },
      "source": [
        "plt.figure()\n",
        "plt.imshow(train_images[4])\n",
        "plt.colorbar()\n",
        "plt.grid(False)\n",
        "plt.show()"
      ],
      "execution_count": null,
      "outputs": [
        {
          "output_type": "display_data",
          "data": {
            "image/png": "[encoded data removed]",
            "text/plain": [
              "<Figure size 432x288 with 2 Axes>"
            ]
          },
          "metadata": {
            "tags": [],
            "needs_background": "light"
          }
        }
      ]
    },
    {
      "cell_type": "code",
      "metadata": {
        "id": "uakx-8PebpF-",
        "outputId": "dbeb0ef2-f277-44ca-e67e-cdf0a2a87cc0",
        "colab": {
          "base_uri": "https://localhost:8080/",
          "height": 551
        }
      },
      "source": [
        "fig = plt.figure()\n",
        "for i in range(9):\n",
        "  plt.subplot(3,3,i+1)\n",
        "  plt.tight_layout()\n",
        "  plt.imshow(train_images[i], cmap='gray', interpolation='none')\n",
        "  plt.title(\"Digit: {}\".format(train_labels[i]))\n",
        "  plt.xticks([])\n",
        "  plt.yticks([])\n",
        "fig"
      ],
      "execution_count": null,
      "outputs": [
        {
          "output_type": "execute_result",
          "data": {
            "image/png": "[encoded data removed]",
            "text/plain": [
              "<Figure size 432x288 with 9 Axes>"
            ]
          },
          "metadata": {
            "tags": []
          },
          "execution_count": 51
        },
        {
          "output_type": "display_data",
          "data": {
            "image/png": "[encoded data removed]",
            "text/plain": [
              "<Figure size 432x288 with 9 Axes>"
            ]
          },
          "metadata": {
            "tags": []
          }
        }
      ]
    },
    {
      "cell_type": "code",
      "metadata": {
        "id": "XDxodHMv0xgG"
      },
      "source": [
        "model = keras.Sequential([\n",
        "    keras.layers.Flatten(input_shape=(28, 28)),  # input layer (0)\n",
        "    keras.layers.Dense(2048, activation='relu'),  # hidden layer (2)\n",
        "    keras.layers.Dense(1024, activation='relu'),  # hidden layer (3)\n",
        "    keras.layers.Dense(512, activation='relu'),  # hidden layer (4)\n",
        "    keras.layers.Dense(256, activation='relu'),  # hidden layer (5)\n",
        "    keras.layers.Dense(128, activation='relu'),  # hidden layer (6)\n",
        "    keras.layers.Dense(64, activation='relu'),  # hidden layer (7)\n",
        "    keras.layers.Dense(32, activation='relu'),  # hidden layer (8)\n",
        "    keras.layers.Dense(16, activation='relu'),  # hidden layer (7)\n",
        "    keras.layers.Dense(10, activation='softmax') # output layer (8)\n",
        "])\n",
        "\n",
        "model.compile(optimizer='adam',\n",
        "              loss='sparse_categorical_crossentropy',\n",
        "              metrics=['accuracy'])"
      ],
      "execution_count": null,
      "outputs": []
    },
    {
      "cell_type": "code",
      "metadata": {
        "id": "kuSlO-JFcsvf",
        "outputId": "fc68e133-2bac-4889-fbd6-0e0c306e23ba",
        "colab": {
          "base_uri": "https://localhost:8080/",
          "height": 269
        }
      },
      "source": [
        "model.fit(train_images, train_labels, epochs=7)"
      ],
      "execution_count": null,
      "outputs": [
        {
          "output_type": "stream",
          "text": [
            "Epoch 1/7\n",
            "1875/1875 [==============================] - 12s 6ms/step - loss: 0.0221 - accuracy: 0.9965\n",
            "Epoch 2/7\n",
            "1875/1875 [==============================] - 12s 6ms/step - loss: 0.0168 - accuracy: 0.9971\n",
            "Epoch 3/7\n",
            "1875/1875 [==============================] - 12s 6ms/step - loss: 0.0209 - accuracy: 0.9963\n",
            "Epoch 4/7\n",
            "1875/1875 [==============================] - 11s 6ms/step - loss: 0.0159 - accuracy: 0.9973\n",
            "Epoch 5/7\n",
            "1875/1875 [==============================] - 11s 6ms/step - loss: 0.0253 - accuracy: 0.9945\n",
            "Epoch 6/7\n",
            "1875/1875 [==============================] - 11s 6ms/step - loss: 0.0121 - accuracy: 0.9977\n",
            "Epoch 7/7\n",
            "1875/1875 [==============================] - 12s 6ms/step - loss: 0.0279 - accuracy: 0.9949\n"
          ],
          "name": "stdout"
        },
        {
          "output_type": "execute_result",
          "data": {
            "text/plain": [
              "<tensorflow.python.keras.callbacks.History at 0x7f0b7b1bcb70>"
            ]
          },
          "metadata": {
            "tags": []
          },
          "execution_count": 55
        }
      ]
    },
    {
      "cell_type": "code",
      "metadata": {
        "id": "WqI0FEO54XN1",
        "outputId": "3b296cf3-b733-4fde-9a0a-93c19c5d2f05",
        "colab": {
          "base_uri": "https://localhost:8080/",
          "height": 50
        }
      },
      "source": [
        "test_loss, test_acc = model.evaluate(test_images,  test_labels, verbose=1) \n",
        "\n",
        "print('Test accuracy:', test_acc)"
      ],
      "execution_count": null,
      "outputs": [
        {
          "output_type": "stream",
          "text": [
            "313/313 [==============================] - 1s 3ms/step - loss: 0.1758 - accuracy: 0.9816\n",
            "Test accuracy: 0.9815999865531921\n"
          ],
          "name": "stdout"
        }
      ]
    }
  ]
}